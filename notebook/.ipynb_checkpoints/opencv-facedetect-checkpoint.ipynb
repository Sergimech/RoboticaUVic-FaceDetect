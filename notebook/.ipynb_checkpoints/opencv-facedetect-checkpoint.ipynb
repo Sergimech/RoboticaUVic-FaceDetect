{
 "metadata": {
  "name": "",
  "signature": "sha256:4d6850670fd1ea92046e2df231b24e466e7ca50cb262e311fc15e5fc8c8b65c3"
 },
 "nbformat": 3,
 "nbformat_minor": 0,
 "worksheets": [
  {
   "cells": [
    {
     "cell_type": "code",
     "collapsed": false,
     "input": [
      "# Get sample video from: https://mega.nz/#!NUtDiTgQ!xFRWP91fdwaoCShTGbVVKXP_sm6PF-pHt5VbNL_s1fE\n",
      "import cv2\n",
      "import numpy as np"
     ],
     "language": "python",
     "metadata": {},
     "outputs": [],
     "prompt_number": 1
    },
    {
     "cell_type": "code",
     "collapsed": false,
     "input": [
      "# Initialize video capture. if an integer is passed instead of a string\n",
      "# the video source with that index is used\n",
      "video = cv2.VideoCapture('video.mpeg')\n",
      "flag = True\n",
      "# Create window to visualize results\n",
      "cv2.namedWindow('faces')\n",
      "# Initialize face detector object\n",
      "face_detect = cv2.CascadeClassifier('haarcascade_frontalface_default.xml')\n",
      "\n",
      "# Main loop\n",
      "while flag:\n",
      "    # Load next frame\n",
      "    flag, frame = video.read()\n",
      "    # Convert frame to grayscale\n",
      "    gray = cv2.cvtColor(frame, cv2.COLOR_BGR2GRAY)\n",
      "    # Detect faces as rectangles\n",
      "    rects = face_detect.detectMultiScale(gray, scaleFactor=1.3, \n",
      "                                     minNeighbors=4, minSize=(30, 30), \n",
      "                                     flags = cv2.CASCADE_SCALE_IMAGE)\n",
      "    # Copy frame for visualization\n",
      "    img = frame.copy()\n",
      "    green = (0, 255, 0)\n",
      "    # For each detected face...\n",
      "    for x1, y1, x2, y2 in rects:\n",
      "        # Draw rectangle in duplicated image\n",
      "        cv2.rectangle(img, (x1, y1), (x2+x1, y2+y1), green, 2)\n",
      "    # Show in window\n",
      "    cv2.imshow('faces', img)\n",
      "    # Wait for keypress \n",
      "    key = cv2.waitKey(5)\n",
      "    if key == 'q':\n",
      "        flag = False\n",
      "cv2.destroyAllWindows()"
     ],
     "language": "python",
     "metadata": {},
     "outputs": [
      {
       "ename": "error",
       "evalue": "/tmp/binarydeb/ros-kinetic-opencv3-3.1.0/modules/imgproc/src/color.cpp:7456: error: (-215) scn == 3 || scn == 4 in function ipp_cvtColor\n",
       "output_type": "pyerr",
       "traceback": [
        "\u001b[0;31m---------------------------------------------------------------------------\u001b[0m\n\u001b[0;31merror\u001b[0m                                     Traceback (most recent call last)",
        "\u001b[0;32m<ipython-input-2-9c0b2eea74b6>\u001b[0m in \u001b[0;36m<module>\u001b[0;34m()\u001b[0m\n\u001b[1;32m     13\u001b[0m     \u001b[0mflag\u001b[0m\u001b[0;34m,\u001b[0m \u001b[0mframe\u001b[0m \u001b[0;34m=\u001b[0m \u001b[0mvideo\u001b[0m\u001b[0;34m.\u001b[0m\u001b[0mread\u001b[0m\u001b[0;34m(\u001b[0m\u001b[0;34m)\u001b[0m\u001b[0;34m\u001b[0m\u001b[0m\n\u001b[1;32m     14\u001b[0m     \u001b[0;31m# Convert frame to grayscale\u001b[0m\u001b[0;34m\u001b[0m\u001b[0;34m\u001b[0m\u001b[0m\n\u001b[0;32m---> 15\u001b[0;31m     \u001b[0mgray\u001b[0m \u001b[0;34m=\u001b[0m \u001b[0mcv2\u001b[0m\u001b[0;34m.\u001b[0m\u001b[0mcvtColor\u001b[0m\u001b[0;34m(\u001b[0m\u001b[0mframe\u001b[0m\u001b[0;34m,\u001b[0m \u001b[0mcv2\u001b[0m\u001b[0;34m.\u001b[0m\u001b[0mCOLOR_BGR2GRAY\u001b[0m\u001b[0;34m)\u001b[0m\u001b[0;34m\u001b[0m\u001b[0m\n\u001b[0m\u001b[1;32m     16\u001b[0m     \u001b[0;31m# Detect faces as rectangles\u001b[0m\u001b[0;34m\u001b[0m\u001b[0;34m\u001b[0m\u001b[0m\n\u001b[1;32m     17\u001b[0m     rects = face_detect.detectMultiScale(gray, scaleFactor=1.3, \n",
        "\u001b[0;31merror\u001b[0m: /tmp/binarydeb/ros-kinetic-opencv3-3.1.0/modules/imgproc/src/color.cpp:7456: error: (-215) scn == 3 || scn == 4 in function ipp_cvtColor\n"
       ]
      }
     ],
     "prompt_number": 2
    },
    {
     "cell_type": "code",
     "collapsed": false,
     "input": [],
     "language": "python",
     "metadata": {},
     "outputs": []
    }
   ],
   "metadata": {}
  }
 ]
}